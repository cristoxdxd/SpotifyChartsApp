{
 "cells": [
  {
   "cell_type": "code",
   "execution_count": 1,
   "metadata": {},
   "outputs": [],
   "source": [
    "from src.utils.data import read_data\n",
    "import altair as alt\n",
    "import plotly.express as px\n",
    "import pandas as pd"
   ]
  },
  {
   "cell_type": "code",
   "execution_count": 6,
   "metadata": {},
   "outputs": [
    {
     "name": "stdout",
     "output_type": "stream",
     "text": [
      "0.999\n"
     ]
    }
   ],
   "source": [
    "print(base['energy'].max())"
   ]
  },
  {
   "cell_type": "code",
   "execution_count": 7,
   "metadata": {},
   "outputs": [],
   "source": [
    "def top_5_artists(year):\n",
    "    base = read_data()\n",
    "    base['Ranking'] = base['popularity'].astype(int)\n",
    "\n",
    "    base_year = base[base['year']==year]\n",
    "\n",
    "    return base_year['artist'].unique()[:5]"
   ]
  },
  {
   "cell_type": "code",
   "execution_count": 4,
   "metadata": {},
   "outputs": [],
   "source": [
    "def top_5_artists(year):\n",
    "    base = read_data()\n",
    "    unique_artists = base['artist'].unique()\n",
    "    base['Ranking'] = base['popularity'].astype(int)\n",
    "\n",
    "    base_year = base[base['year']==year]\n",
    "\n",
    "    return base_year.sort_values(by='Ranking', ascending=False)[:10][['artist']].reset_index(drop=True)"
   ]
  },
  {
   "cell_type": "code",
   "execution_count": 8,
   "metadata": {},
   "outputs": [
    {
     "data": {
      "text/plain": [
       "array(['iio', 'Arctic Monkeys', 'Shayne Ward', 'Justin Timberlake',\n",
       "       'Amy Winehouse'], dtype=object)"
      ]
     },
     "execution_count": 8,
     "metadata": {},
     "output_type": "execute_result"
    }
   ],
   "source": [
    "top_5_artists(2006)"
   ]
  }
 ],
 "metadata": {
  "kernelspec": {
   "display_name": ".venv",
   "language": "python",
   "name": "python3"
  },
  "language_info": {
   "codemirror_mode": {
    "name": "ipython",
    "version": 3
   },
   "file_extension": ".py",
   "mimetype": "text/x-python",
   "name": "python",
   "nbconvert_exporter": "python",
   "pygments_lexer": "ipython3",
   "version": "3.11.8"
  }
 },
 "nbformat": 4,
 "nbformat_minor": 2
}
