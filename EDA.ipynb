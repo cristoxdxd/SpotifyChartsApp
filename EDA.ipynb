{
 "cells": [
  {
   "cell_type": "code",
   "execution_count": 2,
   "metadata": {},
   "outputs": [],
   "source": [
    "from src.utils.data import read_data\n",
    "import altair as alt\n",
    "import plotly.express as px\n",
    "import pandas as pd"
   ]
  },
  {
   "cell_type": "code",
   "execution_count": 3,
   "metadata": {},
   "outputs": [
    {
     "data": {
      "text/html": [
       "\n",
       "<style>\n",
       "  #altair-viz-de28db1e0bbe463f97c96911e6fd4f94.vega-embed {\n",
       "    width: 100%;\n",
       "    display: flex;\n",
       "  }\n",
       "\n",
       "  #altair-viz-de28db1e0bbe463f97c96911e6fd4f94.vega-embed details,\n",
       "  #altair-viz-de28db1e0bbe463f97c96911e6fd4f94.vega-embed details summary {\n",
       "    position: relative;\n",
       "  }\n",
       "</style>\n",
       "<div id=\"altair-viz-de28db1e0bbe463f97c96911e6fd4f94\"></div>\n",
       "<script type=\"text/javascript\">\n",
       "  var VEGA_DEBUG = (typeof VEGA_DEBUG == \"undefined\") ? {} : VEGA_DEBUG;\n",
       "  (function(spec, embedOpt){\n",
       "    let outputDiv = document.currentScript.previousElementSibling;\n",
       "    if (outputDiv.id !== \"altair-viz-de28db1e0bbe463f97c96911e6fd4f94\") {\n",
       "      outputDiv = document.getElementById(\"altair-viz-de28db1e0bbe463f97c96911e6fd4f94\");\n",
       "    }\n",
       "    const paths = {\n",
       "      \"vega\": \"https://cdn.jsdelivr.net/npm/vega@5?noext\",\n",
       "      \"vega-lib\": \"https://cdn.jsdelivr.net/npm/vega-lib?noext\",\n",
       "      \"vega-lite\": \"https://cdn.jsdelivr.net/npm/vega-lite@5.17.0?noext\",\n",
       "      \"vega-embed\": \"https://cdn.jsdelivr.net/npm/vega-embed@6?noext\",\n",
       "    };\n",
       "\n",
       "    function maybeLoadScript(lib, version) {\n",
       "      var key = `${lib.replace(\"-\", \"\")}_version`;\n",
       "      return (VEGA_DEBUG[key] == version) ?\n",
       "        Promise.resolve(paths[lib]) :\n",
       "        new Promise(function(resolve, reject) {\n",
       "          var s = document.createElement('script');\n",
       "          document.getElementsByTagName(\"head\")[0].appendChild(s);\n",
       "          s.async = true;\n",
       "          s.onload = () => {\n",
       "            VEGA_DEBUG[key] = version;\n",
       "            return resolve(paths[lib]);\n",
       "          };\n",
       "          s.onerror = () => reject(`Error loading script: ${paths[lib]}`);\n",
       "          s.src = paths[lib];\n",
       "        });\n",
       "    }\n",
       "\n",
       "    function showError(err) {\n",
       "      outputDiv.innerHTML = `<div class=\"error\" style=\"color:red;\">${err}</div>`;\n",
       "      throw err;\n",
       "    }\n",
       "\n",
       "    function displayChart(vegaEmbed) {\n",
       "      vegaEmbed(outputDiv, spec, embedOpt)\n",
       "        .catch(err => showError(`Javascript Error: ${err.message}<br>This usually means there's a typo in your chart specification. See the javascript console for the full traceback.`));\n",
       "    }\n",
       "\n",
       "    if(typeof define === \"function\" && define.amd) {\n",
       "      requirejs.config({paths});\n",
       "      require([\"vega-embed\"], displayChart, err => showError(`Error loading script: ${err.message}`));\n",
       "    } else {\n",
       "      maybeLoadScript(\"vega\", \"5\")\n",
       "        .then(() => maybeLoadScript(\"vega-lite\", \"5.17.0\"))\n",
       "        .then(() => maybeLoadScript(\"vega-embed\", \"6\"))\n",
       "        .catch(showError)\n",
       "        .then(() => displayChart(vegaEmbed));\n",
       "    }\n",
       "  })({\"config\": {\"view\": {\"continuousWidth\": 300, \"continuousHeight\": 300}}, \"data\": {\"name\": \"data-08c371f03e43b9cba1bbfb3a58aa1ad9\"}, \"mark\": {\"type\": \"bar\"}, \"encoding\": {\"x\": {\"field\": \"year\", \"type\": \"ordinal\"}, \"y\": {\"field\": \"count\", \"type\": \"quantitative\"}}, \"$schema\": \"https://vega.github.io/schema/vega-lite/v5.17.0.json\", \"datasets\": {\"data-08c371f03e43b9cba1bbfb3a58aa1ad9\": [{\"year\": 2012, \"count\": 115}, {\"year\": 2017, \"count\": 111}, {\"year\": 2001, \"count\": 108}, {\"year\": 2018, \"count\": 107}, {\"year\": 2010, \"count\": 107}, {\"year\": 2014, \"count\": 104}, {\"year\": 2005, \"count\": 104}, {\"year\": 2011, \"count\": 99}, {\"year\": 2016, \"count\": 99}, {\"year\": 2015, \"count\": 99}, {\"year\": 2003, \"count\": 97}, {\"year\": 2008, \"count\": 97}, {\"year\": 2004, \"count\": 96}, {\"year\": 2006, \"count\": 95}, {\"year\": 2007, \"count\": 94}, {\"year\": 2002, \"count\": 90}, {\"year\": 2019, \"count\": 89}, {\"year\": 2013, \"count\": 89}, {\"year\": 2009, \"count\": 84}, {\"year\": 2000, \"count\": 74}, {\"year\": 1999, \"count\": 38}, {\"year\": 2020, \"count\": 3}, {\"year\": 1998, \"count\": 1}]}}, {\"mode\": \"vega-lite\"});\n",
       "</script>"
      ],
      "text/plain": [
       "alt.Chart(...)"
      ]
     },
     "execution_count": 3,
     "metadata": {},
     "output_type": "execute_result"
    }
   ],
   "source": [
    "base = read_data()\n",
    "\n",
    "years = base['year'].unique()\n",
    "years.sort()\n",
    "\n",
    "df_count = pd.DataFrame(base['year'].value_counts()).reset_index()\n",
    "df_count.columns = ['year', 'count']\n",
    "\n",
    "alt.Chart(df_count).mark_bar().encode(\n",
    "    x='year:O',\n",
    "    y='count:Q'\n",
    ")"
   ]
  },
  {
   "cell_type": "code",
   "execution_count": 13,
   "metadata": {},
   "outputs": [
    {
     "data": {
      "text/html": [
       "\n",
       "<style>\n",
       "  #altair-viz-4a27c4f425a84b1fa95425193743dd55.vega-embed {\n",
       "    width: 100%;\n",
       "    display: flex;\n",
       "  }\n",
       "\n",
       "  #altair-viz-4a27c4f425a84b1fa95425193743dd55.vega-embed details,\n",
       "  #altair-viz-4a27c4f425a84b1fa95425193743dd55.vega-embed details summary {\n",
       "    position: relative;\n",
       "  }\n",
       "</style>\n",
       "<div id=\"altair-viz-4a27c4f425a84b1fa95425193743dd55\"></div>\n",
       "<script type=\"text/javascript\">\n",
       "  var VEGA_DEBUG = (typeof VEGA_DEBUG == \"undefined\") ? {} : VEGA_DEBUG;\n",
       "  (function(spec, embedOpt){\n",
       "    let outputDiv = document.currentScript.previousElementSibling;\n",
       "    if (outputDiv.id !== \"altair-viz-4a27c4f425a84b1fa95425193743dd55\") {\n",
       "      outputDiv = document.getElementById(\"altair-viz-4a27c4f425a84b1fa95425193743dd55\");\n",
       "    }\n",
       "    const paths = {\n",
       "      \"vega\": \"https://cdn.jsdelivr.net/npm/vega@5?noext\",\n",
       "      \"vega-lib\": \"https://cdn.jsdelivr.net/npm/vega-lib?noext\",\n",
       "      \"vega-lite\": \"https://cdn.jsdelivr.net/npm/vega-lite@5.17.0?noext\",\n",
       "      \"vega-embed\": \"https://cdn.jsdelivr.net/npm/vega-embed@6?noext\",\n",
       "    };\n",
       "\n",
       "    function maybeLoadScript(lib, version) {\n",
       "      var key = `${lib.replace(\"-\", \"\")}_version`;\n",
       "      return (VEGA_DEBUG[key] == version) ?\n",
       "        Promise.resolve(paths[lib]) :\n",
       "        new Promise(function(resolve, reject) {\n",
       "          var s = document.createElement('script');\n",
       "          document.getElementsByTagName(\"head\")[0].appendChild(s);\n",
       "          s.async = true;\n",
       "          s.onload = () => {\n",
       "            VEGA_DEBUG[key] = version;\n",
       "            return resolve(paths[lib]);\n",
       "          };\n",
       "          s.onerror = () => reject(`Error loading script: ${paths[lib]}`);\n",
       "          s.src = paths[lib];\n",
       "        });\n",
       "    }\n",
       "\n",
       "    function showError(err) {\n",
       "      outputDiv.innerHTML = `<div class=\"error\" style=\"color:red;\">${err}</div>`;\n",
       "      throw err;\n",
       "    }\n",
       "\n",
       "    function displayChart(vegaEmbed) {\n",
       "      vegaEmbed(outputDiv, spec, embedOpt)\n",
       "        .catch(err => showError(`Javascript Error: ${err.message}<br>This usually means there's a typo in your chart specification. See the javascript console for the full traceback.`));\n",
       "    }\n",
       "\n",
       "    if(typeof define === \"function\" && define.amd) {\n",
       "      requirejs.config({paths});\n",
       "      require([\"vega-embed\"], displayChart, err => showError(`Error loading script: ${err.message}`));\n",
       "    } else {\n",
       "      maybeLoadScript(\"vega\", \"5\")\n",
       "        .then(() => maybeLoadScript(\"vega-lite\", \"5.17.0\"))\n",
       "        .then(() => maybeLoadScript(\"vega-embed\", \"6\"))\n",
       "        .catch(showError)\n",
       "        .then(() => displayChart(vegaEmbed));\n",
       "    }\n",
       "  })({\"config\": {\"view\": {\"continuousWidth\": 300, \"continuousHeight\": 300}}, \"data\": {\"name\": \"data-7c22f027e00ef59da9881db29f10acfc\"}, \"mark\": {\"type\": \"bar\"}, \"encoding\": {\"color\": {\"field\": \"explicit\", \"type\": \"nominal\"}, \"x\": {\"field\": \"year\", \"type\": \"ordinal\"}, \"y\": {\"field\": \"count\", \"type\": \"quantitative\"}}, \"$schema\": \"https://vega.github.io/schema/vega-lite/v5.17.0.json\", \"datasets\": {\"data-7c22f027e00ef59da9881db29f10acfc\": [{\"year\": 1998, \"explicit\": true, \"count\": 1}, {\"year\": 1999, \"explicit\": false, \"count\": 30}, {\"year\": 1999, \"explicit\": true, \"count\": 8}, {\"year\": 2000, \"explicit\": false, \"count\": 62}, {\"year\": 2000, \"explicit\": true, \"count\": 12}, {\"year\": 2001, \"explicit\": false, \"count\": 85}, {\"year\": 2001, \"explicit\": true, \"count\": 23}, {\"year\": 2002, \"explicit\": false, \"count\": 60}, {\"year\": 2002, \"explicit\": true, \"count\": 30}, {\"year\": 2003, \"explicit\": false, \"count\": 74}, {\"year\": 2003, \"explicit\": true, \"count\": 23}, {\"year\": 2004, \"explicit\": false, \"count\": 60}, {\"year\": 2004, \"explicit\": true, \"count\": 36}, {\"year\": 2005, \"explicit\": false, \"count\": 75}, {\"year\": 2005, \"explicit\": true, \"count\": 29}, {\"year\": 2006, \"explicit\": false, \"count\": 69}, {\"year\": 2006, \"explicit\": true, \"count\": 26}, {\"year\": 2007, \"explicit\": false, \"count\": 72}, {\"year\": 2007, \"explicit\": true, \"count\": 22}, {\"year\": 2008, \"explicit\": false, \"count\": 74}, {\"year\": 2008, \"explicit\": true, \"count\": 23}, {\"year\": 2009, \"explicit\": false, \"count\": 61}, {\"year\": 2009, \"explicit\": true, \"count\": 23}, {\"year\": 2010, \"explicit\": false, \"count\": 84}, {\"year\": 2010, \"explicit\": true, \"count\": 23}, {\"year\": 2011, \"explicit\": false, \"count\": 74}, {\"year\": 2011, \"explicit\": true, \"count\": 25}, {\"year\": 2012, \"explicit\": false, \"count\": 96}, {\"year\": 2012, \"explicit\": true, \"count\": 19}, {\"year\": 2013, \"explicit\": false, \"count\": 69}, {\"year\": 2013, \"explicit\": true, \"count\": 20}, {\"year\": 2014, \"explicit\": false, \"count\": 84}, {\"year\": 2014, \"explicit\": true, \"count\": 20}, {\"year\": 2015, \"explicit\": false, \"count\": 70}, {\"year\": 2015, \"explicit\": true, \"count\": 29}, {\"year\": 2016, \"explicit\": false, \"count\": 67}, {\"year\": 2016, \"explicit\": true, \"count\": 32}, {\"year\": 2017, \"explicit\": false, \"count\": 74}, {\"year\": 2017, \"explicit\": true, \"count\": 37}, {\"year\": 2018, \"explicit\": false, \"count\": 56}, {\"year\": 2018, \"explicit\": true, \"count\": 51}, {\"year\": 2019, \"explicit\": false, \"count\": 52}, {\"year\": 2019, \"explicit\": true, \"count\": 37}, {\"year\": 2020, \"explicit\": false, \"count\": 1}, {\"year\": 2020, \"explicit\": true, \"count\": 2}]}}, {\"mode\": \"vega-lite\"});\n",
       "</script>"
      ],
      "text/plain": [
       "alt.Chart(...)"
      ]
     },
     "metadata": {},
     "output_type": "display_data"
    }
   ],
   "source": [
    "# Group the data by year and explicit columns and calculate the count\n",
    "df_explicit = base.groupby(['year', 'explicit']).size().reset_index(name='count')\n",
    "\n",
    "# Create a stacked bar chart\n",
    "chart = alt.Chart(df_explicit).mark_bar().encode(\n",
    "    x='year:O',\n",
    "    y='count:Q',\n",
    "    color='explicit:N'\n",
    ")\n",
    "\n",
    "# Show the chart\n",
    "chart.show()"
   ]
  },
  {
   "cell_type": "code",
   "execution_count": 13,
   "metadata": {},
   "outputs": [
    {
     "name": "stdout",
     "output_type": "stream",
     "text": [
      "0.853\n"
     ]
    }
   ],
   "source": [
    "print(base['liveness'].max())"
   ]
  },
  {
   "cell_type": "code",
   "execution_count": 5,
   "metadata": {},
   "outputs": [],
   "source": [
    "def top_10_year(year):\n",
    "    base = read_data()\n",
    "    base['Ranking'] = base['popularity'].astype(int)\n",
    "\n",
    "    base_year = base[base['year']==year]\n",
    "\n",
    "    return base_year.sort_values(by='Ranking', ascending=False)[:10][['song', 'artist', 'popularity', 'loudness', 'liveness', 'tempo']].reset_index(drop=True)"
   ]
  },
  {
   "cell_type": "code",
   "execution_count": 4,
   "metadata": {},
   "outputs": [],
   "source": [
    "def top_5_artists(year):\n",
    "    base = read_data()\n",
    "    base['Ranking'] = base['popularity'].astype(int)\n",
    "\n",
    "    base_year = base[base['year']==year]\n",
    "\n",
    "    return base_year.sort_values(by='Ranking', ascending=False)[:10][['artist']].reset_index(drop=True) # unique"
   ]
  },
  {
   "cell_type": "code",
   "execution_count": 7,
   "metadata": {},
   "outputs": [
    {
     "data": {
      "text/html": [
       "<div>\n",
       "<style scoped>\n",
       "    .dataframe tbody tr th:only-of-type {\n",
       "        vertical-align: middle;\n",
       "    }\n",
       "\n",
       "    .dataframe tbody tr th {\n",
       "        vertical-align: top;\n",
       "    }\n",
       "\n",
       "    .dataframe thead th {\n",
       "        text-align: right;\n",
       "    }\n",
       "</style>\n",
       "<table border=\"1\" class=\"dataframe\">\n",
       "  <thead>\n",
       "    <tr style=\"text-align: right;\">\n",
       "      <th></th>\n",
       "      <th>song</th>\n",
       "      <th>artist</th>\n",
       "    </tr>\n",
       "  </thead>\n",
       "  <tbody>\n",
       "    <tr>\n",
       "      <th>0</th>\n",
       "      <td>Heartless</td>\n",
       "      <td>Kanye West</td>\n",
       "    </tr>\n",
       "    <tr>\n",
       "      <th>1</th>\n",
       "      <td>Umbrella</td>\n",
       "      <td>Rihanna</td>\n",
       "    </tr>\n",
       "    <tr>\n",
       "      <th>2</th>\n",
       "      <td>Sex on Fire</td>\n",
       "      <td>Kings of Leon</td>\n",
       "    </tr>\n",
       "    <tr>\n",
       "      <th>3</th>\n",
       "      <td>Low (feat. T-Pain)</td>\n",
       "      <td>Flo Rida</td>\n",
       "    </tr>\n",
       "    <tr>\n",
       "      <th>4</th>\n",
       "      <td>Sex on Fire</td>\n",
       "      <td>Kings of Leon</td>\n",
       "    </tr>\n",
       "    <tr>\n",
       "      <th>5</th>\n",
       "      <td>Viva La Vida</td>\n",
       "      <td>Coldplay</td>\n",
       "    </tr>\n",
       "    <tr>\n",
       "      <th>6</th>\n",
       "      <td>American Boy</td>\n",
       "      <td>Estelle</td>\n",
       "    </tr>\n",
       "    <tr>\n",
       "      <th>7</th>\n",
       "      <td>You're Gonna Go Far, Kid</td>\n",
       "      <td>The Offspring</td>\n",
       "    </tr>\n",
       "    <tr>\n",
       "      <th>8</th>\n",
       "      <td>Walking On A Dream</td>\n",
       "      <td>Empire of the Sun</td>\n",
       "    </tr>\n",
       "    <tr>\n",
       "      <th>9</th>\n",
       "      <td>Poker Face</td>\n",
       "      <td>Lady Gaga</td>\n",
       "    </tr>\n",
       "  </tbody>\n",
       "</table>\n",
       "</div>"
      ],
      "text/plain": [
       "                       song             artist\n",
       "0                 Heartless         Kanye West\n",
       "1                  Umbrella            Rihanna\n",
       "2               Sex on Fire      Kings of Leon\n",
       "3        Low (feat. T-Pain)           Flo Rida\n",
       "4               Sex on Fire      Kings of Leon\n",
       "5              Viva La Vida           Coldplay\n",
       "6              American Boy            Estelle\n",
       "7  You're Gonna Go Far, Kid      The Offspring\n",
       "8        Walking On A Dream  Empire of the Sun\n",
       "9                Poker Face          Lady Gaga"
      ]
     },
     "execution_count": 7,
     "metadata": {},
     "output_type": "execute_result"
    }
   ],
   "source": [
    "top_10_year(2008)"
   ]
  },
  {
   "cell_type": "code",
   "execution_count": null,
   "metadata": {},
   "outputs": [],
   "source": [
    "top_5_artists(2006)"
   ]
  }
 ],
 "metadata": {
  "kernelspec": {
   "display_name": ".venv",
   "language": "python",
   "name": "python3"
  },
  "language_info": {
   "codemirror_mode": {
    "name": "ipython",
    "version": 3
   },
   "file_extension": ".py",
   "mimetype": "text/x-python",
   "name": "python",
   "nbconvert_exporter": "python",
   "pygments_lexer": "ipython3",
   "version": "3.11.8"
  }
 },
 "nbformat": 4,
 "nbformat_minor": 2
}
